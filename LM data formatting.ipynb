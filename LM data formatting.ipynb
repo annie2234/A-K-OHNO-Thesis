{
 "cells": [
  {
   "cell_type": "markdown",
   "id": "46917b82",
   "metadata": {},
   "source": [
    "# Processing Data\n",
    "\n",
    "**Place**: London Marylebone Road\n",
    "\n",
    "**Years**: 2005, 2010 & 2020"
   ]
  },
  {
   "cell_type": "code",
   "execution_count": 1,
   "id": "3df6b64c",
   "metadata": {},
   "outputs": [],
   "source": [
    "# Importing relevent packages\n",
    "import pandas as pd\n",
    "import numpy as np\n",
    "import numpy\n",
    "import datetime\n",
    "import os\n",
    "# Importing personal package\n",
    "import analysis\n",
    "\n",
    "# Removing warnings\n",
    "import warnings\n",
    "warnings.filterwarnings(\"ignore\")"
   ]
  },
  {
   "cell_type": "code",
   "execution_count": 2,
   "id": "4ac1ff0c",
   "metadata": {},
   "outputs": [],
   "source": [
    "# optional code to install package to use .feather file format\n",
    "# !pip install pyarrow"
   ]
  },
  {
   "cell_type": "markdown",
   "id": "7361afb4",
   "metadata": {},
   "source": [
    "#### Rate Constant DataFrames\n",
    "**rate_df**: dataframe containing the literature rate constant and molecular mass of each measured species.\n",
    "   - columns: gas, rate constant, molecular mass\n",
    "\n",
    "**temp_dependant_rates**: dataframe containing the rate constants of the OH-NO reaction over a temperature range of 200-300K.\n",
    "   - columns: Temperature (K), literature k, all k, float m k, float f k, 298-258"
   ]
  },
  {
   "cell_type": "code",
   "execution_count": 3,
   "id": "a3219c40",
   "metadata": {},
   "outputs": [],
   "source": [
    "# Reading in literature rates as float64 dtype\n",
    "rate_df = pd.read_excel('rate_constants.xlsx', dtype = {'Rate constant':np.float64,'Molecular mass':np.float64})\n",
    "# Reading in only the necessary page of the rate calculations spreadsheet\n",
    "temp_dependant_rates = pd.read_excel('Temp dependant rate calculations.xlsx', sheet_name='Final data')\n",
    "\n",
    "#Setting index to the gas species\n",
    "rate_df = rate_df.set_index('Gas')"
   ]
  },
  {
   "cell_type": "code",
   "execution_count": 4,
   "id": "126ba65d",
   "metadata": {},
   "outputs": [
    {
     "data": {
      "text/html": [
       "<div>\n",
       "<style scoped>\n",
       "    .dataframe tbody tr th:only-of-type {\n",
       "        vertical-align: middle;\n",
       "    }\n",
       "\n",
       "    .dataframe tbody tr th {\n",
       "        vertical-align: top;\n",
       "    }\n",
       "\n",
       "    .dataframe thead th {\n",
       "        text-align: right;\n",
       "    }\n",
       "</style>\n",
       "<table border=\"1\" class=\"dataframe\">\n",
       "  <thead>\n",
       "    <tr style=\"text-align: right;\">\n",
       "      <th></th>\n",
       "      <th>Temperature (K)</th>\n",
       "      <th>literature k</th>\n",
       "      <th>all k</th>\n",
       "      <th>float m k</th>\n",
       "      <th>float f k</th>\n",
       "      <th>298-258 k</th>\n",
       "    </tr>\n",
       "  </thead>\n",
       "  <tbody>\n",
       "    <tr>\n",
       "      <th>0</th>\n",
       "      <td>300</td>\n",
       "      <td>9.520674e-12</td>\n",
       "      <td>7.097912e-12</td>\n",
       "      <td>6.234063e-12</td>\n",
       "      <td>7.091856e-12</td>\n",
       "      <td>7.254576e-12</td>\n",
       "    </tr>\n",
       "    <tr>\n",
       "      <th>1</th>\n",
       "      <td>290</td>\n",
       "      <td>9.212528e-12</td>\n",
       "      <td>6.749877e-12</td>\n",
       "      <td>5.778281e-12</td>\n",
       "      <td>6.744102e-12</td>\n",
       "      <td>6.940892e-12</td>\n",
       "    </tr>\n",
       "    <tr>\n",
       "      <th>2</th>\n",
       "      <td>280</td>\n",
       "      <td>8.901756e-12</td>\n",
       "      <td>6.401413e-12</td>\n",
       "      <td>5.339922e-12</td>\n",
       "      <td>6.395937e-12</td>\n",
       "      <td>6.625714e-12</td>\n",
       "    </tr>\n",
       "    <tr>\n",
       "      <th>3</th>\n",
       "      <td>270</td>\n",
       "      <td>8.588341e-12</td>\n",
       "      <td>6.052617e-12</td>\n",
       "      <td>4.919056e-12</td>\n",
       "      <td>6.047458e-12</td>\n",
       "      <td>6.309022e-12</td>\n",
       "    </tr>\n",
       "    <tr>\n",
       "      <th>4</th>\n",
       "      <td>260</td>\n",
       "      <td>8.272269e-12</td>\n",
       "      <td>5.703694e-12</td>\n",
       "      <td>4.515698e-12</td>\n",
       "      <td>5.698869e-12</td>\n",
       "      <td>5.990855e-12</td>\n",
       "    </tr>\n",
       "    <tr>\n",
       "      <th>5</th>\n",
       "      <td>250</td>\n",
       "      <td>7.953534e-12</td>\n",
       "      <td>5.354976e-12</td>\n",
       "      <td>4.129811e-12</td>\n",
       "      <td>5.350499e-12</td>\n",
       "      <td>5.671328e-12</td>\n",
       "    </tr>\n",
       "    <tr>\n",
       "      <th>6</th>\n",
       "      <td>240</td>\n",
       "      <td>7.632139e-12</td>\n",
       "      <td>5.006943e-12</td>\n",
       "      <td>3.761317e-12</td>\n",
       "      <td>5.002825e-12</td>\n",
       "      <td>5.350645e-12</td>\n",
       "    </tr>\n",
       "    <tr>\n",
       "      <th>7</th>\n",
       "      <td>230</td>\n",
       "      <td>7.308096e-12</td>\n",
       "      <td>4.660237e-12</td>\n",
       "      <td>3.410101e-12</td>\n",
       "      <td>4.656485e-12</td>\n",
       "      <td>5.029116e-12</td>\n",
       "    </tr>\n",
       "    <tr>\n",
       "      <th>8</th>\n",
       "      <td>220</td>\n",
       "      <td>6.981428e-12</td>\n",
       "      <td>4.315677e-12</td>\n",
       "      <td>3.076032e-12</td>\n",
       "      <td>4.312290e-12</td>\n",
       "      <td>4.707175e-12</td>\n",
       "    </tr>\n",
       "    <tr>\n",
       "      <th>9</th>\n",
       "      <td>210</td>\n",
       "      <td>6.652176e-12</td>\n",
       "      <td>3.974258e-12</td>\n",
       "      <td>2.758976e-12</td>\n",
       "      <td>3.971231e-12</td>\n",
       "      <td>4.385391e-12</td>\n",
       "    </tr>\n",
       "    <tr>\n",
       "      <th>10</th>\n",
       "      <td>200</td>\n",
       "      <td>6.320398e-12</td>\n",
       "      <td>3.637158e-12</td>\n",
       "      <td>2.458819e-12</td>\n",
       "      <td>3.634478e-12</td>\n",
       "      <td>4.064481e-12</td>\n",
       "    </tr>\n",
       "  </tbody>\n",
       "</table>\n",
       "</div>"
      ],
      "text/plain": [
       "    Temperature (K)  literature k         all k     float m k     float f k  \\\n",
       "0               300  9.520674e-12  7.097912e-12  6.234063e-12  7.091856e-12   \n",
       "1               290  9.212528e-12  6.749877e-12  5.778281e-12  6.744102e-12   \n",
       "2               280  8.901756e-12  6.401413e-12  5.339922e-12  6.395937e-12   \n",
       "3               270  8.588341e-12  6.052617e-12  4.919056e-12  6.047458e-12   \n",
       "4               260  8.272269e-12  5.703694e-12  4.515698e-12  5.698869e-12   \n",
       "5               250  7.953534e-12  5.354976e-12  4.129811e-12  5.350499e-12   \n",
       "6               240  7.632139e-12  5.006943e-12  3.761317e-12  5.002825e-12   \n",
       "7               230  7.308096e-12  4.660237e-12  3.410101e-12  4.656485e-12   \n",
       "8               220  6.981428e-12  4.315677e-12  3.076032e-12  4.312290e-12   \n",
       "9               210  6.652176e-12  3.974258e-12  2.758976e-12  3.971231e-12   \n",
       "10              200  6.320398e-12  3.637158e-12  2.458819e-12  3.634478e-12   \n",
       "\n",
       "       298-258 k  \n",
       "0   7.254576e-12  \n",
       "1   6.940892e-12  \n",
       "2   6.625714e-12  \n",
       "3   6.309022e-12  \n",
       "4   5.990855e-12  \n",
       "5   5.671328e-12  \n",
       "6   5.350645e-12  \n",
       "7   5.029116e-12  \n",
       "8   4.707175e-12  \n",
       "9   4.385391e-12  \n",
       "10  4.064481e-12  "
      ]
     },
     "execution_count": 4,
     "metadata": {},
     "output_type": "execute_result"
    }
   ],
   "source": [
    "temp_dependant_rates"
   ]
  },
  {
   "cell_type": "code",
   "execution_count": 5,
   "id": "043e7dc4",
   "metadata": {},
   "outputs": [],
   "source": [
    "# Constant hourly methane concentrations \n",
    "methane_2005 = 5.17182 # ug m-3\n",
    "methane_2010 = 4.75855 # ug m-3\n",
    "methane_2020 = 12.8503 # ug m-3"
   ]
  },
  {
   "cell_type": "markdown",
   "id": "12a0a11c",
   "metadata": {},
   "source": [
    "**Note**: All datasets obtained from DEFRA included all measured species and were stored in a folder labelled 'DEFRA'."
   ]
  },
  {
   "cell_type": "markdown",
   "id": "d1b7b445",
   "metadata": {},
   "source": [
    "## 2005\n",
    "\n",
    "#### Reading in data and calculating OH concentration"
   ]
  },
  {
   "cell_type": "code",
   "execution_count": 6,
   "id": "77374b98",
   "metadata": {},
   "outputs": [],
   "source": [
    "df05 = analysis.read_data(rate_df,methane_2005,filename = 'LM2005')"
   ]
  },
  {
   "cell_type": "code",
   "execution_count": 7,
   "id": "ff511847",
   "metadata": {},
   "outputs": [],
   "source": [
    "analysis.calculate_OH(df05,rate_df, temp_dependant_rates, 'literature k', 2005)"
   ]
  },
  {
   "cell_type": "code",
   "execution_count": 8,
   "id": "966fada0",
   "metadata": {},
   "outputs": [],
   "source": [
    "analysis.calculate_OH(df05,rate_df, temp_dependant_rates, 'all k', 2005)"
   ]
  },
  {
   "cell_type": "code",
   "execution_count": 9,
   "id": "49ae699f",
   "metadata": {},
   "outputs": [],
   "source": [
    "analysis.calculate_OH(df05,rate_df, temp_dependant_rates, 'float f k', 2005)"
   ]
  },
  {
   "cell_type": "code",
   "execution_count": 10,
   "id": "10d23510",
   "metadata": {},
   "outputs": [],
   "source": [
    "analysis.calculate_OH(df05,rate_df, temp_dependant_rates, 'float m k', 2005)"
   ]
  },
  {
   "cell_type": "code",
   "execution_count": 11,
   "id": "2c3b6b53",
   "metadata": {},
   "outputs": [],
   "source": [
    "analysis.calculate_OH(df05,rate_df,temp_dependant_rates, '298-258 k', 2005)"
   ]
  },
  {
   "cell_type": "markdown",
   "id": "05d5338d",
   "metadata": {},
   "source": [
    "# 2010\n",
    "\n",
    "#### Reading in data and calculating OH concentration"
   ]
  },
  {
   "cell_type": "code",
   "execution_count": 12,
   "id": "0b2ab68c",
   "metadata": {},
   "outputs": [],
   "source": [
    "df10 = analysis.read_data(rate_df, methane_2010, filename = 'LM2010')"
   ]
  },
  {
   "cell_type": "code",
   "execution_count": 13,
   "id": "8699721b",
   "metadata": {},
   "outputs": [],
   "source": [
    "analysis.calculate_OH(df10,rate_df,temp_dependant_rates, 'literature k', 2010)"
   ]
  },
  {
   "cell_type": "code",
   "execution_count": 14,
   "id": "19d73fa8",
   "metadata": {},
   "outputs": [],
   "source": [
    "analysis.calculate_OH(df10,rate_df, temp_dependant_rates, 'all k', 2010)"
   ]
  },
  {
   "cell_type": "code",
   "execution_count": 15,
   "id": "0d872ae7",
   "metadata": {},
   "outputs": [],
   "source": [
    "analysis.calculate_OH(df10,rate_df, temp_dependant_rates, 'float f k', 2010)"
   ]
  },
  {
   "cell_type": "code",
   "execution_count": 16,
   "id": "09da42ee",
   "metadata": {},
   "outputs": [],
   "source": [
    "analysis.calculate_OH(df10,rate_df, temp_dependant_rates, 'float m k', 2010)"
   ]
  },
  {
   "cell_type": "code",
   "execution_count": 17,
   "id": "7e481727",
   "metadata": {},
   "outputs": [],
   "source": [
    "analysis.calculate_OH(df10,rate_df,temp_dependant_rates, '298-258 k', 2010)"
   ]
  },
  {
   "cell_type": "markdown",
   "id": "75ede9f2",
   "metadata": {},
   "source": [
    "# 2022\n",
    "\n",
    "#### Reading in data and calculating OH concentration"
   ]
  },
  {
   "cell_type": "code",
   "execution_count": 18,
   "id": "f295a555",
   "metadata": {},
   "outputs": [],
   "source": [
    "df20 = analysis.read_data(rate_df, methane_2020, filename='LM2020')"
   ]
  },
  {
   "cell_type": "code",
   "execution_count": 19,
   "id": "bf1a8188",
   "metadata": {},
   "outputs": [],
   "source": [
    "analysis.calculate_OH(df20,rate_df,temp_dependant_rates, 'literature k', 2020)"
   ]
  },
  {
   "cell_type": "code",
   "execution_count": 20,
   "id": "2f7f6be2",
   "metadata": {},
   "outputs": [],
   "source": [
    "analysis.calculate_OH(df20,rate_df, temp_dependant_rates, 'all k', 2020)"
   ]
  },
  {
   "cell_type": "code",
   "execution_count": 21,
   "id": "ee380262",
   "metadata": {},
   "outputs": [],
   "source": [
    "analysis.calculate_OH(df20,rate_df, temp_dependant_rates, 'float f k', 2020)"
   ]
  },
  {
   "cell_type": "code",
   "execution_count": 22,
   "id": "c75652ae",
   "metadata": {},
   "outputs": [],
   "source": [
    "analysis.calculate_OH(df20,rate_df, temp_dependant_rates, 'float m k', 2020)"
   ]
  },
  {
   "cell_type": "code",
   "execution_count": 23,
   "id": "bdbeb3cb",
   "metadata": {},
   "outputs": [],
   "source": [
    "analysis.calculate_OH(df20,rate_df,temp_dependant_rates, '298-258 k', 2020)"
   ]
  }
 ],
 "metadata": {
  "kernelspec": {
   "display_name": "Python 3 (ipykernel)",
   "language": "python",
   "name": "python3"
  },
  "language_info": {
   "codemirror_mode": {
    "name": "ipython",
    "version": 3
   },
   "file_extension": ".py",
   "mimetype": "text/x-python",
   "name": "python",
   "nbconvert_exporter": "python",
   "pygments_lexer": "ipython3",
   "version": "3.11.7"
  }
 },
 "nbformat": 4,
 "nbformat_minor": 5
}
